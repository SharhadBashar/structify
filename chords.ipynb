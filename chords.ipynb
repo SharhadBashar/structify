{
 "cells": [
  {
   "cell_type": "code",
   "execution_count": 1,
   "metadata": {},
   "outputs": [],
   "source": [
    "import math\n",
    "import numpy as np\n",
    "from pprint import pprint\n",
    "import matplotlib.pyplot as plt"
   ]
  },
  {
   "cell_type": "code",
   "execution_count": 2,
   "metadata": {},
   "outputs": [],
   "source": [
    "'''\n",
    "line = {\n",
    "    's': ,\n",
    "    'e': ,\n",
    "    'equation': {'m':, 'b':}\n",
    "}\n",
    "'''\n",
    "\n",
    "def lines_xy(radians, id):\n",
    "    lines = {}    \n",
    "    for i in range(len(id)):\n",
    "        line_id = id[i][1]\n",
    "        rad = radians[i]\n",
    "        if (line_id not in lines.keys()):\n",
    "            lines[line_id] = {}    \n",
    "        if (id[i][0] == 's'):\n",
    "            lines[line_id]['s'] = (math.cos(rad), math.sin(rad))\n",
    "        else:\n",
    "            lines[line_id]['e'] = (math.cos(rad), math.sin(rad))\n",
    "    return lines\n",
    "\n",
    "def line_equation(s, e):\n",
    "    m = (e[1] - s[1]) / (e[0] - s[0])\n",
    "    b = s[1] - m * s[0]\n",
    "    return m, b\n",
    "\n",
    "def line_intersection(l_1, l_2):\n",
    "    def delta(a, b):\n",
    "        return a[0] * b[1] - a[1] * b[0]\n",
    "    \n",
    "    x_diff = (l_1[0][0] - l_1[1][0], l_2[0][0] - l_2[1][0])\n",
    "    y_diff = (l_1[0][1] - l_1[1][1], l_2[0][1] - l_2[1][1])\n",
    "\n",
    "    div = delta(x_diff, y_diff)\n",
    "    if (div == 0):\n",
    "       return None, None\n",
    "\n",
    "    d = (delta(*l_1), delta(*l_2))\n",
    "    x = delta(d, x_diff) / div\n",
    "    y = delta(d, y_diff) / div\n",
    "    return x, y\n",
    "\n",
    "def intersection_in_circle(x, y, radius = 1):\n",
    "    if not x or not y:\n",
    "        return False\n",
    "    return (x ** 2 + y ** 2) <= radius\n",
    "\n",
    "def chord_lines(radians, id):\n",
    "    lines = {}\n",
    "    for i in range(len(id)):\n",
    "        line_id = id[i][1]\n",
    "        rad = radians[i]\n",
    "        if (line_id not in lines.keys()):\n",
    "            lines[line_id] = [-1, -1]    \n",
    "        if (id[i][0] == 's'):\n",
    "            lines[line_id][0] = radians[i]\n",
    "        else:\n",
    "            lines[line_id][1] = radians[i]\n",
    "    return lines\n",
    "\n",
    "def intersect(line_1, line_2):\n",
    "    if (line_1[0] <= line_2[0] and line_1[1] >= line_2[0] and line_1[1] <= line_2[1]):\n",
    "        return 1\n",
    "    return 0"
   ]
  },
  {
   "cell_type": "code",
   "execution_count": 7,
   "metadata": {},
   "outputs": [],
   "source": [
    "def draw(radians, id, radius = 1):\n",
    "    intersections = []\n",
    "    theta = np.linspace(0, 2 * np.pi)\n",
    "    circle_a = radius * np.cos(theta)\n",
    "    circle_b = radius * np.sin(theta)\n",
    "    \n",
    "    lines = lines_xy(radians, id)\n",
    "    for line in lines:\n",
    "        m, b = line_equation(lines[line]['s'], lines[line]['e'])\n",
    "        lines[line]['equation'] = 'y = {}*x + {}'.format(m, b)\n",
    "        \n",
    "    line_ids = list(lines.keys())\n",
    "    for i in range(len(line_ids) - 1):\n",
    "        for j in range(i + 1, len(line_ids)):\n",
    "            x, y = line_intersection(\n",
    "                (lines[line_ids[i]]['s'], lines[line_ids[i]]['e']),\n",
    "                (lines[line_ids[j]]['s'], lines[line_ids[j]]['e'])\n",
    "            )\n",
    "            if (intersection_in_circle(x, y)):\n",
    "                intersections.append((x, y))\n",
    "   \n",
    "    figure, axes = plt.subplots()\n",
    "    axes.set_aspect(1)\n",
    "    \n",
    "    for line in lines:\n",
    "        line = lines[line]\n",
    "        plt.plot([line['s'][0], line['e'][0]], [line['s'][1], line['e'][1]], 'ro-')\n",
    "    for intersection in intersections:\n",
    "        plt.plot(intersection[0], intersection[1], 'bo')\n",
    "        \n",
    "    print('Lines ({}) Start and End point as well as equation:'.format(len(lines)))\n",
    "    pprint(lines)\n",
    "    print()\n",
    "    print('List of valid intersections:')\n",
    "    pprint(intersections)\n",
    "    print()\n",
    "    \n",
    "    plt.plot(circle_a, circle_b)\n",
    "    \n",
    "    plt.title('Chords')\n",
    "    plt.show()"
   ]
  },
  {
   "cell_type": "code",
   "execution_count": 8,
   "metadata": {},
   "outputs": [],
   "source": [
    "def chord_mathematical(radians, id, radius = 1):\n",
    "    if (len(radians) % 2 != 0 or len(id) % 2 != 0):\n",
    "        return False\n",
    "    \n",
    "    intersections = 0\n",
    "    lines = lines_xy(radians, id)\n",
    "    \n",
    "    line_ids = list(lines.keys())\n",
    "    for i in range(len(line_ids) - 1):\n",
    "        for j in range(i + 1, len(line_ids)):\n",
    "            x, y = line_intersection(\n",
    "                (lines[line_ids[i]]['s'], lines[line_ids[i]]['e']),\n",
    "                (lines[line_ids[j]]['s'], lines[line_ids[j]]['e'])\n",
    "            )\n",
    "            if (intersection_in_circle(x, y)):\n",
    "                intersections += 1\n",
    "\n",
    "    return intersections\n",
    "    "
   ]
  },
  {
   "cell_type": "code",
   "execution_count": 9,
   "metadata": {},
   "outputs": [],
   "source": [
    "def chord_intersection(radians, id):\n",
    "    if (len(radians) % 2 != 0 or len(id) % 2 != 0):\n",
    "        return False\n",
    "    \n",
    "    intersections = 0\n",
    "    lines = chord_lines(radians, id)\n",
    "    line_ids = list(lines.keys())\n",
    "    for i in range(len(line_ids) - 1):\n",
    "        for j in range(i + 1, len(line_ids)):\n",
    "            intersections += intersect(lines[line_ids[i]], lines[line_ids[j]])\n",
    "    return intersections"
   ]
  },
  {
   "cell_type": "code",
   "execution_count": 10,
   "metadata": {},
   "outputs": [
    {
     "name": "stdout",
     "output_type": "stream",
     "text": [
      "Lines (4) Start and End point as well as equation:\n",
      "{'1': {'e': (-0.9899924966004454, 0.1411200080598672),\n",
      "       'equation': 'y = 0.18114695257159807*x + 0.32045413188778615',\n",
      "       's': (0.8775825618903728, 0.479425538604203)},\n",
      " '2': {'e': (-0.197888814609109, 0.9802244727880455),\n",
      "       'equation': 'y = -0.3047362859358844*x + 0.9199205703958109',\n",
      "       's': (0.7109135380122773, 0.7032794192004103)},\n",
      " '3': {'e': (-0.7120327163983102, -0.7021462887308054),\n",
      "       'equation': 'y = 2.088295075202706*x + 0.7847881263069909',\n",
      "       's': (0.10062573338693173, 0.9949243497775809)},\n",
      " '4': {'e': (0.28366218546322625, -0.9589242746631385),\n",
      "       'equation': 'y = -1.347579552305043*x + -0.576666913770734',\n",
      "       's': (-0.8355887771314077, 0.5493554364271266)}}\n",
      "\n",
      "List of valid intersections:\n",
      "[(-0.24347033610509924, 0.2763502224607646),\n",
      " (-0.5868420824762977, 0.2141494770064343),\n",
      " (0.05646914883076369, 0.9027123717111633),\n",
      " (-0.3962470077277738, -0.0426925484947277)]\n",
      "\n"
     ]
    },
    {
     "data": {
      "image/png": "[encoded data removed]",
      "text/plain": [
       "<Figure size 640x480 with 1 Axes>"
      ]
     },
     "metadata": {},
     "output_type": "display_data"
    }
   ],
   "source": [
    "radians = [0.5, 0.78, 1.47, 1.77, 2.56, 3.00, 3.92, 5.00]\n",
    "id =      ['s1', 's2', 's3', 'e2', 's4', 'e1', 'e3', 'e4']\n",
    "# radians = [0.78, 1.47, 1.77, 3.92]\n",
    "# id =      ['s1', 's2', 'e1', 'e2']\n",
    "draw(radians, id)"
   ]
  },
  {
   "cell_type": "code",
   "execution_count": 11,
   "metadata": {},
   "outputs": [
    {
     "name": "stdout",
     "output_type": "stream",
     "text": [
      "Intersections using mathematical method: 4\n"
     ]
    }
   ],
   "source": [
    "print('Intersections using mathematical method:', chord_mathematical(radians, id))"
   ]
  },
  {
   "cell_type": "code",
   "execution_count": 12,
   "metadata": {},
   "outputs": [
    {
     "name": "stdout",
     "output_type": "stream",
     "text": [
      "Intersections: 4\n"
     ]
    }
   ],
   "source": [
    "print('Intersections:', chord_intersection(radians, id))"
   ]
  }
 ],
 "metadata": {
  "kernelspec": {
   "display_name": "Python 3",
   "language": "python",
   "name": "python3"
  },
  "language_info": {
   "codemirror_mode": {
    "name": "ipython",
    "version": 3
   },
   "file_extension": ".py",
   "mimetype": "text/x-python",
   "name": "python",
   "nbconvert_exporter": "python",
   "pygments_lexer": "ipython3",
   "version": "3.12.1"
  }
 },
 "nbformat": 4,
 "nbformat_minor": 2
}
